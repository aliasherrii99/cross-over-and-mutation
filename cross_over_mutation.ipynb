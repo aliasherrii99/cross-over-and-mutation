{
 "cells": [
  {
   "cell_type": "markdown",
   "id": "393635a4",
   "metadata": {},
   "source": [
    "# Q7"
   ]
  },
  {
   "cell_type": "markdown",
   "id": "6c3b348c",
   "metadata": {},
   "source": [
    "## CrossOver for binary representation"
   ]
  },
  {
   "cell_type": "code",
   "execution_count": 7,
   "id": "d9cb9219",
   "metadata": {},
   "outputs": [
    {
     "name": "stdout",
     "output_type": "stream",
     "text": [
      "[1 1 0 1 0 0] [0 1 0 0 1 1]\n"
     ]
    }
   ],
   "source": [
    "import numpy as np\n",
    "\n",
    "def uniform_crossover(parent1, parent2):\n",
    "    if len(parent1) != len(parent2):\n",
    "        raise ValueError(\"Both parents must have the same length\")\n",
    "\n",
    "    # Initialize the children\n",
    "    child1, child2 = [], []\n",
    "\n",
    "    for i in range(len(parent1)):\n",
    "        # Generate a random number for each position\n",
    "        if np.random.rand() > 0.5:\n",
    "            child1.append(parent1[i])\n",
    "            child2.append(parent2[i])\n",
    "        else:\n",
    "            child1.append(parent2[i])\n",
    "            child2.append(parent1[i])\n",
    "\n",
    "    return child1, child2\n",
    "\n",
    "\n",
    "\n",
    "def binaryCrossover(parent1 , parent2 , kind , crossover_probability) :\n",
    "    if np.random.rand() < crossover_probability:\n",
    "        if kind == '1-point' :\n",
    "            point = np.random.randint(1, len(parent1)-1)\n",
    "            offspring1 = np.concatenate((parent1[:point], parent2[point:]))\n",
    "            offspring2 = np.concatenate((parent2[:point], parent1[point:]))\n",
    "            \n",
    "            return offspring1, offspring2\n",
    "        \n",
    "        \n",
    "        elif kind == 'uniform' :\n",
    "            offspring1, offspring2 = uniform_crossover(parent1, parent2)[0] , uniform_crossover(parent1, parent2)[1]\n",
    "            return offspring1, offspring2\n",
    "            \n",
    "    else:\n",
    "        return parent1, parent2\n",
    "\n",
    "    \n",
    "parent1 = [1, 0, 1, 0, 1, 1]\n",
    "parent2 = [0, 1, 0, 1, 0, 0]\n",
    "\n",
    "print(binaryCrossover(parent1 , parent2 ,'1-point' , 0.7)[0],binaryCrossover(parent1 , parent2 ,'1-point' , 0.7)[1])"
   ]
  },
  {
   "cell_type": "markdown",
   "id": "c2272aef",
   "metadata": {},
   "source": [
    "## mutation for binary representation"
   ]
  },
  {
   "cell_type": "code",
   "execution_count": 30,
   "id": "62d268e0",
   "metadata": {},
   "outputs": [
    {
     "name": "stdout",
     "output_type": "stream",
     "text": [
      "0.9810628520593141\n",
      "0.11619678086133944\n",
      "0.013090101603985382\n",
      "0.07346877483868886\n",
      "0.17504822813405108\n",
      "0.4176180235501231\n"
     ]
    },
    {
     "data": {
      "text/plain": [
       "[1, 0, 0, 1, 1, 1]"
      ]
     },
     "execution_count": 30,
     "metadata": {},
     "output_type": "execute_result"
    }
   ],
   "source": [
    "def binaryMutate(offspring, mutation_probability):\n",
    "    for i in range(len(offspring)):\n",
    "        t = np.random.rand()\n",
    "        print(t)\n",
    "        if t < mutation_probability:\n",
    "            offspring[i] = 1 - offspring[i]\n",
    "    return offspring\n",
    "\n",
    "parent1 = [1, 0, 1, 0, 1, 1]\n",
    "parent2 = [0, 1, 0, 1, 0, 0]\n",
    "\n",
    "binaryMutate(parent1, 0.1)"
   ]
  },
  {
   "cell_type": "markdown",
   "id": "6469824f",
   "metadata": {},
   "source": [
    "## Int Crossover :"
   ]
  },
  {
   "cell_type": "code",
   "execution_count": 31,
   "id": "83e22f85",
   "metadata": {},
   "outputs": [
    {
     "name": "stdout",
     "output_type": "stream",
     "text": [
      "Child 1: [1, 2, 8, 7, 6, 5, 4, 8, 2, 1]\n",
      "Child 2: [10, 9, 3, 4, 5, 6, 7, 3, 9, 10]\n"
     ]
    }
   ],
   "source": [
    "def n_point_crossover(parent1, parent2, n):\n",
    "    if len(parent1) != len(parent2):\n",
    "        raise ValueError(\"Both parents must have the same length\")\n",
    "    if n <= 0 or n >= len(parent1):\n",
    "        raise ValueError(\"n must be between 1 and the length of the parents - 1\")\n",
    "\n",
    "    # Generate n unique crossover points\n",
    "    points = np.sort(np.random.choice(range(1, len(parent1)), n, replace=False))\n",
    "\n",
    "    # Initialize the children\n",
    "    child1, child2 = [], []\n",
    "\n",
    "    # Alternate starting parent\n",
    "    current_parent = True  # True for parent1, False for parent2\n",
    "\n",
    "    # Starting from the beginning, add segments from alternating parents\n",
    "    start_idx = 0\n",
    "    for point in points:\n",
    "        if current_parent:\n",
    "            child1.extend(parent1[start_idx:point])\n",
    "            child2.extend(parent2[start_idx:point])\n",
    "        else:\n",
    "            child1.extend(parent2[start_idx:point])\n",
    "            child2.extend(parent1[start_idx:point])\n",
    "        start_idx = point\n",
    "        current_parent = not current_parent\n",
    "\n",
    "    # Add the last segment\n",
    "    if current_parent:\n",
    "        child1.extend(parent1[start_idx:])\n",
    "        child2.extend(parent2[start_idx:])\n",
    "    else:\n",
    "        child1.extend(parent2[start_idx:])\n",
    "        child2.extend(parent1[start_idx:])\n",
    "\n",
    "    return child1, child2\n",
    "\n",
    "parent1 = [1, 2, 3, 4, 5, 6, 7, 8, 9, 10]\n",
    "parent2 = [10, 9, 8, 7, 6, 5, 4, 3, 2, 1]\n",
    "n = 3  # For example, 3-point crossover\n",
    "\n",
    "child1, child2 = n_point_crossover(parent1, parent2, n)\n",
    "\n",
    "print(\"Child 1:\", child1)\n",
    "print(\"Child 2:\", child2)"
   ]
  },
  {
   "cell_type": "markdown",
   "id": "3f487244",
   "metadata": {},
   "source": [
    "## Int Mutation :"
   ]
  },
  {
   "cell_type": "code",
   "execution_count": 77,
   "id": "b0caed23",
   "metadata": {},
   "outputs": [
    {
     "data": {
      "text/plain": [
       "array([ 12.,  19.,  29.,  42.,  50.,  60.,  72.,  80.,  91., 101.])"
      ]
     },
     "execution_count": 77,
     "metadata": {},
     "output_type": "execute_result"
    }
   ],
   "source": [
    "def creep_mutation(parent, mutation_range):\n",
    "    child = parent + np.random.uniform(-mutation_range, mutation_range, size=len(parent))\n",
    "    child = np.round(child)\n",
    "    return child\n",
    "\n",
    "parent1 = [10, 20, 30, 40, 50, 60, 70, 80, 90, 100]\n",
    "mutation_range = 2\n",
    "\n",
    "creep_mutation(parent1, mutation_range)"
   ]
  },
  {
   "cell_type": "code",
   "execution_count": 44,
   "id": "1a011c7b",
   "metadata": {},
   "outputs": [
    {
     "data": {
      "text/plain": [
       "array([1, 3, 3])"
      ]
     },
     "execution_count": 44,
     "metadata": {},
     "output_type": "execute_result"
    }
   ],
   "source": [
    "def random_resetting_mutation(parent, gene_values):\n",
    "    gene_index = np.random.randint(len(parent))\n",
    "    old_value = parent[gene_index]\n",
    "    possible_values = [v for v in gene_values[gene_index] if v != old_value]\n",
    "\n",
    "    if not possible_values:\n",
    "        new_value = old_value\n",
    "    else:\n",
    "        new_value = np.random.choice(possible_values)\n",
    "\n",
    "    child = np.copy(parent)\n",
    "    child[gene_index] = new_value\n",
    "\n",
    "    return child\n",
    "\n",
    "\n",
    "\n",
    "parent = np.array([1, 2, 3]) \n",
    "\n",
    "\n",
    "\n",
    "# Define possible gene values (workers) for each task\n",
    "\n",
    "gene_values = [[1, 2, 3], [1, 2, 3], [1, 2, 3]]\n",
    "\n",
    "# Apply random resetting mutation\n",
    "\n",
    "mutated_child = random_resetting_mutation(parent, gene_values)\n",
    "\n",
    "mutated_child"
   ]
  },
  {
   "cell_type": "markdown",
   "id": "16e24d3d",
   "metadata": {},
   "source": [
    "## float Crossover"
   ]
  },
  {
   "cell_type": "code",
   "execution_count": 66,
   "id": "45ed5306",
   "metadata": {},
   "outputs": [
    {
     "name": "stdout",
     "output_type": "stream",
     "text": [
      "simple_arithmetic :\n",
      "[0.1 0.2 0.3 0.3 0.4 0.4 0.5 0.5 0.6] [0.3 0.2 0.3 0.2 0.3 0.4 0.5 0.5 0.6]\n",
      "whole_arithmetic :\n",
      "[0.2 0.2 0.3 0.3 0.4 0.4 0.5 0.5 0.6] [0.2 0.2 0.3 0.3 0.4 0.4 0.5 0.5 0.6]\n",
      "blend :\n",
      "[0.18661647 0.2        0.3        0.46614849 0.26047256 0.75679697\n",
      " 0.4586081  0.31019968 0.74167838] [ 0.35395041  0.2         0.3         0.19724598  0.58874525  0.53420182\n",
      "  0.47477628 -0.02467616  0.97265105]\n"
     ]
    }
   ],
   "source": [
    "def simple_arithmetic_crossover(parent1, parent2, alpha=0.5):\n",
    "\n",
    "    crossover_point = np.random.randint(1, len(parent1))  # Exclude the first gene to ensure crossover happens\n",
    "\n",
    "    child1 = np.copy(parent1)\n",
    "    child2 = np.copy(parent2)\n",
    "\n",
    "    child1[crossover_point:] = alpha * parent1[crossover_point:] + (1 - alpha) * parent2[crossover_point:]\n",
    "    child2[crossover_point:] = alpha * parent2[crossover_point:] + (1 - alpha) * parent1[crossover_point:]\n",
    "\n",
    "    return child1, child2\n",
    "\n",
    "parent1 = np.array([0.1, 0.2, 0.3, 0.4, 0.5 , 0.6 , 0.7 , 0.8 , 0.9])\n",
    "parent2 = np.array([0.3 , 0.2 , 0.3 , 0.2 , 0.3 , 0.2 , 0.3 , 0.2 , 0.3])\n",
    "\n",
    "def whole_arithmetic_crossover(parent1, parent2, alpha=0.5):\n",
    "\n",
    "    child1 = alpha * parent1 + (1 - alpha) * parent2\n",
    "    child2 = alpha * parent2 + (1 - alpha) * parent1\n",
    "\n",
    "    return child1, child2\n",
    "\n",
    "\n",
    "def blend_crossover(parent1, parent2, alpha=0.5):\n",
    "    if len(parent1) != len(parent2):\n",
    "        raise ValueError(\"Both parents must have the same length\")\n",
    "\n",
    "    child1, child2 = np.empty_like(parent1), np.empty_like(parent2)\n",
    "\n",
    "    for i in range(len(parent1)):\n",
    "        c_min = min(parent1[i], parent2[i])\n",
    "        c_max = max(parent1[i], parent2[i])\n",
    "        range_min = c_min - alpha * (c_max - c_min)\n",
    "        range_max = c_max + alpha * (c_max - c_min)\n",
    "\n",
    "        child1[i] = np.random.uniform(range_min, range_max)\n",
    "        child2[i] = np.random.uniform(range_min, range_max)\n",
    "\n",
    "    return child1, child2\n",
    "\n",
    "def float_crossOver(a , b , kind , Alpha , probability ):\n",
    "    if np.random.rand() < probability:\n",
    "        if kind == 'simple_arithmetic':\n",
    "            return simple_arithmetic_crossover(a, b, alpha=Alpha)\n",
    "        elif kind == 'whole_arithmetic' :\n",
    "            return whole_arithmetic_crossover(a, b, alpha=Alpha)\n",
    "        elif kind == 'blend' :\n",
    "            return blend_crossover(a, b, alpha=Alpha)\n",
    "    else : \n",
    "        return a , b\n",
    "    \n",
    "float_crossOver(parent1 , parent2 , 'simple_arithmetic' , 0.5 , 0.9 )\n",
    "print('simple_arithmetic :' )\n",
    "print(float_crossOver(parent1 , parent2 , 'simple_arithmetic' , 0.5 , 0.9 )[0],float_crossOver(parent1 , parent2 , 'simple_arithmetic' , 0.5 , 0.9 )[1])\n",
    "print('whole_arithmetic :' )\n",
    "print(float_crossOver(parent1 , parent2 , 'whole_arithmetic' , 0.5 , 0.9 )[0],float_crossOver(parent1 , parent2 , 'whole_arithmetic' , 0.5 , 0.9 )[1])\n",
    "print('blend :' )\n",
    "print(float_crossOver(parent1 , parent2 , 'blend' , 0.5 , 0.9 )[0],float_crossOver(parent1 , parent2 , 'blend' , 0.5 , 0.9 )[1])"
   ]
  },
  {
   "cell_type": "markdown",
   "id": "b7266215",
   "metadata": {},
   "source": [
    "## float Mutation"
   ]
  },
  {
   "cell_type": "code",
   "execution_count": 80,
   "id": "c3f812ac",
   "metadata": {},
   "outputs": [
    {
     "name": "stdout",
     "output_type": "stream",
     "text": [
      "Mutated Parent: [10.04094601 20.17920203 30.12594615 39.93845691 49.8313346  60.00164041\n",
      " 69.87743397 80.13014961 90.04081945 99.81265724]\n",
      "New Sigma: 0.13096524339621643\n"
     ]
    }
   ],
   "source": [
    "def uncorrelated_mutation_one_sigma(parent, sigma, tau_prime):\n",
    "\n",
    "    sigma_prime = sigma * np.exp(tau_prime * np.random.normal())\n",
    "\n",
    "    sigma_prime = max(sigma_prime, 1e-20)\n",
    "\n",
    "    mutated_parent = parent + sigma_prime * np.random.normal(size=len(parent))\n",
    "\n",
    "    return mutated_parent, sigma_prime\n",
    "\n",
    "initial_sigma = 0.1\n",
    "tau_prime = 1 / np.sqrt(2 * len(parent))\n",
    "mutated_parent, new_sigma = uncorrelated_mutation_one_sigma(parent1, initial_sigma, tau_prime)\n",
    "\n",
    "print(\"Mutated Parent:\", mutated_parent)\n",
    "print(\"New Sigma:\", new_sigma)"
   ]
  },
  {
   "cell_type": "code",
   "execution_count": 85,
   "id": "f9b05a16",
   "metadata": {},
   "outputs": [
    {
     "name": "stdout",
     "output_type": "stream",
     "text": [
      "Mutated Parent: [  9.99088869  20.02436957  30.15566177  39.98923534  49.97696959\n",
      "  60.0465848   70.00018999  79.93888002  89.94233833 100.07030047]\n",
      "New Sigmas: [0.06293322 0.12427188 0.13484502 0.11367701 0.08162446 0.1412326\n",
      " 0.08692515 0.0597612  0.08478881 0.12396078]\n"
     ]
    }
   ],
   "source": [
    "def uncorrelated_mutation_n_sigmas(parent, sigmas, tau, tau_prime):\n",
    "    n = len(parent)\n",
    "\n",
    "    sigmas_prime = sigmas * np.exp(tau * np.random.normal() + tau_prime * np.random.normal(size=n))\n",
    "\n",
    "    sigmas_prime = np.maximum(sigmas_prime, 1e-20)\n",
    "\n",
    "    mutated_parent = parent + sigmas_prime * np.random.normal(size=n)\n",
    "\n",
    "    return mutated_parent, sigmas_prime\n",
    "\n",
    "sigmas = np.array([0.1, 0.1 , 0.1 , 0.1 , 0.1 , 0.1 , 0.1 , 0.1 , 0.1 , 0.1])\n",
    "tau = 1 / np.sqrt(2 * np.sqrt(len(parent1)))\n",
    "tau_prime = 1 / np.sqrt(2 * len(parent1))\n",
    "\n",
    "mutated_parent, new_sigmas = uncorrelated_mutation_n_sigmas(parent1, sigmas, tau, tau_prime)\n",
    "print(\"Mutated Parent:\", mutated_parent)\n",
    "print(\"New Sigmas:\", new_sigmas)"
   ]
  }
 ],
 "metadata": {
  "kernelspec": {
   "display_name": "Python 3 (ipykernel)",
   "language": "python",
   "name": "python3"
  },
  "language_info": {
   "codemirror_mode": {
    "name": "ipython",
    "version": 3
   },
   "file_extension": ".py",
   "mimetype": "text/x-python",
   "name": "python",
   "nbconvert_exporter": "python",
   "pygments_lexer": "ipython3",
   "version": "3.11.5"
  }
 },
 "nbformat": 4,
 "nbformat_minor": 5
}
